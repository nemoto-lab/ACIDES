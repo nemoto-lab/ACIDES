{
 "cells": [
  {
   "cell_type": "markdown",
   "id": "09a85e8e",
   "metadata": {},
   "source": [
    "# ACIDES tutorial"
   ]
  },
  {
   "cell_type": "markdown",
   "id": "4a9fffb5",
   "metadata": {},
   "source": [
    "This is a tutorial on how to use ACIDES. This Jupyter Notebook file (ACIDES_tutorial.ipynb) as well as the ACIDES module file (ACIDES_module.py) can be downloaded from https://github.com/nemoto-lab/ACIDES/. Please refer to the article (link) for the technical details. "
   ]
  },
  {
   "cell_type": "markdown",
   "id": "5c55a47b",
   "metadata": {},
   "source": [
    "## 1. Importing ACIDES_module"
   ]
  },
  {
   "cell_type": "markdown",
   "id": "12e58af0",
   "metadata": {},
   "source": [
    "We can either place the module file (ACIDES_module.py) in the same directory as the Jupyter Notebook file (ACIDES_tutorial.ipynb) or specify the path to the module file by using sys.path.append(\"path_to_ACIDES_module\"). Below we assume that we are at ACIDES/tutorial directory. "
   ]
  },
  {
   "cell_type": "code",
   "execution_count": 1,
   "id": "22867bc4",
   "metadata": {},
   "outputs": [],
   "source": [
    "import numpy as np\n",
    "import pandas as pd\n",
    "import matplotlib.pyplot as plt\n",
    "import matplotlib\n",
    "import scipy\n",
    "from importlib import reload\n",
    "import os\n",
    "import sys\n",
    "sys.path.append(\".\")\n",
    "sys.path.append(\"../module/\")\n",
    "import ACIDES_module\n",
    "from ACIDES_module import ACIDES\n",
    "from ACIDES_module import ACIDES_FIGURE_AVERAGE\n",
    "import warnings\n",
    "warnings.filterwarnings(\"ignore\")"
   ]
  },
  {
   "cell_type": "markdown",
   "id": "560623a1",
   "metadata": {},
   "source": [
    "##   2. Preparing the data"
   ]
  },
  {
   "cell_type": "markdown",
   "id": "94a1a26c",
   "metadata": {},
   "source": [
    "The count data files for Data-A through Data-G (refer to Table 1 of the article), which can be used as input data for ACIDES, are available for download at the following link: https://www.dropbox.com/scl/fi/wxe8ip8ib769qd06d3geg/DataAtoG.zip?rlkey=dj4j9urd8co4r8y8djngtimit&dl=0\n",
    "Here we will be using Data-B, which employs the yeast two-hybrid assay. We extract rep1.csv from Data-B and place it in the working directory. This file can be read using pandas:"
   ]
  },
  {
   "cell_type": "code",
   "execution_count": 2,
   "id": "6f5df891",
   "metadata": {},
   "outputs": [],
   "source": [
    "data_set = pd.read_csv('./rep1.csv',index_col=0)"
   ]
  },
  {
   "cell_type": "markdown",
   "id": "4651fa79",
   "metadata": {},
   "source": [
    "data_set is a matrix, whose entries represent the NGS counts for each variant (row) and for each round (column):"
   ]
  },
  {
   "cell_type": "code",
   "execution_count": 3,
   "id": "5fea8f81",
   "metadata": {},
   "outputs": [
    {
     "data": {
      "text/html": [
       "<div>\n",
       "<style scoped>\n",
       "    .dataframe tbody tr th:only-of-type {\n",
       "        vertical-align: middle;\n",
       "    }\n",
       "\n",
       "    .dataframe tbody tr th {\n",
       "        vertical-align: top;\n",
       "    }\n",
       "\n",
       "    .dataframe thead th {\n",
       "        text-align: right;\n",
       "    }\n",
       "</style>\n",
       "<table border=\"1\" class=\"dataframe\">\n",
       "  <thead>\n",
       "    <tr style=\"text-align: right;\">\n",
       "      <th></th>\n",
       "      <th>c_0</th>\n",
       "      <th>c_18</th>\n",
       "      <th>c_37</th>\n",
       "      <th>c_45</th>\n",
       "    </tr>\n",
       "  </thead>\n",
       "  <tbody>\n",
       "    <tr>\n",
       "      <th>variant_0</th>\n",
       "      <td>10578861.0</td>\n",
       "      <td>1688739.0</td>\n",
       "      <td>1958501.0</td>\n",
       "      <td>1584951.0</td>\n",
       "    </tr>\n",
       "    <tr>\n",
       "      <th>variant_1</th>\n",
       "      <td>408.0</td>\n",
       "      <td>41.0</td>\n",
       "      <td>19.0</td>\n",
       "      <td>10.0</td>\n",
       "    </tr>\n",
       "    <tr>\n",
       "      <th>variant_2</th>\n",
       "      <td>52.0</td>\n",
       "      <td>7.0</td>\n",
       "      <td>3.0</td>\n",
       "      <td>1.0</td>\n",
       "    </tr>\n",
       "    <tr>\n",
       "      <th>variant_3</th>\n",
       "      <td>359.0</td>\n",
       "      <td>48.0</td>\n",
       "      <td>71.0</td>\n",
       "      <td>28.0</td>\n",
       "    </tr>\n",
       "    <tr>\n",
       "      <th>variant_4</th>\n",
       "      <td>807.0</td>\n",
       "      <td>98.0</td>\n",
       "      <td>47.0</td>\n",
       "      <td>43.0</td>\n",
       "    </tr>\n",
       "    <tr>\n",
       "      <th>...</th>\n",
       "      <td>...</td>\n",
       "      <td>...</td>\n",
       "      <td>...</td>\n",
       "      <td>...</td>\n",
       "    </tr>\n",
       "    <tr>\n",
       "      <th>variant_26738</th>\n",
       "      <td>623.0</td>\n",
       "      <td>91.0</td>\n",
       "      <td>62.0</td>\n",
       "      <td>89.0</td>\n",
       "    </tr>\n",
       "    <tr>\n",
       "      <th>variant_26739</th>\n",
       "      <td>26.0</td>\n",
       "      <td>0.0</td>\n",
       "      <td>0.0</td>\n",
       "      <td>0.0</td>\n",
       "    </tr>\n",
       "    <tr>\n",
       "      <th>variant_26740</th>\n",
       "      <td>93.0</td>\n",
       "      <td>13.0</td>\n",
       "      <td>8.0</td>\n",
       "      <td>0.0</td>\n",
       "    </tr>\n",
       "    <tr>\n",
       "      <th>variant_26741</th>\n",
       "      <td>80.0</td>\n",
       "      <td>5.0</td>\n",
       "      <td>0.0</td>\n",
       "      <td>3.0</td>\n",
       "    </tr>\n",
       "    <tr>\n",
       "      <th>variant_26742</th>\n",
       "      <td>190.0</td>\n",
       "      <td>24.0</td>\n",
       "      <td>15.0</td>\n",
       "      <td>23.0</td>\n",
       "    </tr>\n",
       "  </tbody>\n",
       "</table>\n",
       "<p>26743 rows × 4 columns</p>\n",
       "</div>"
      ],
      "text/plain": [
       "                      c_0       c_18       c_37       c_45\n",
       "variant_0      10578861.0  1688739.0  1958501.0  1584951.0\n",
       "variant_1           408.0       41.0       19.0       10.0\n",
       "variant_2            52.0        7.0        3.0        1.0\n",
       "variant_3           359.0       48.0       71.0       28.0\n",
       "variant_4           807.0       98.0       47.0       43.0\n",
       "...                   ...        ...        ...        ...\n",
       "variant_26738       623.0       91.0       62.0       89.0\n",
       "variant_26739        26.0        0.0        0.0        0.0\n",
       "variant_26740        93.0       13.0        8.0        0.0\n",
       "variant_26741        80.0        5.0        0.0        3.0\n",
       "variant_26742       190.0       24.0       15.0       23.0\n",
       "\n",
       "[26743 rows x 4 columns]"
      ]
     },
     "execution_count": 3,
     "metadata": {},
     "output_type": "execute_result"
    }
   ],
   "source": [
    "data_set"
   ]
  },
  {
   "cell_type": "markdown",
   "id": "422ed138",
   "metadata": {},
   "source": [
    "Additionally, the time values for each round need to be defined."
   ]
  },
  {
   "cell_type": "code",
   "execution_count": 4,
   "id": "8e5fd1de",
   "metadata": {},
   "outputs": [],
   "source": [
    "t_rounds = np.array([0,18,37,45])/45"
   ]
  },
  {
   "cell_type": "markdown",
   "id": "f5ab84b7",
   "metadata": {},
   "source": [
    "The time values for each round can be represented as integers ([0,1,2,3,...]). Alternatively, you can also normalize the time values so that the maximum t_rounds value is equal to 1. Note that, in this particular dataset, the yeast two-hybrid screening (Y2H) is utilized, which means that the intervals between different rounds may not necessarily be the same."
   ]
  },
  {
   "cell_type": "markdown",
   "id": "1bf3d859",
   "metadata": {},
   "source": [
    "##   3. Performing ACIDES"
   ]
  },
  {
   "cell_type": "markdown",
   "id": "8c9fe857",
   "metadata": {},
   "source": [
    "We will now perform ACIDES. To do so, we first need to fix parameters $\\alpha$ and $\\beta$, which specify the shape of the probability distribution that describes the randomness of the experiments (please refer to the first paragraph of the RESULTS or the model in the METHOD section of the article). It is worth noting that the larger the values of $\\alpha$ or $\\beta$, the smaller the randomness of the distribution becomes. In the limit of $\\alpha\\rightarrow \\infty$ or $\\beta\\rightarrow \\infty$, the probability distribution becomes the Poisson distribution. There are two ways to determine $\\alpha$ and $\\beta$: (i) using a maximum likelihood approach (with the aid of a ACIDES class, as explained below), or (ii) using the values obtained from different experiments as an approximation. In this tutorial, we will set $\\alpha=0.87$ and $\\beta=0.25$ and proceed with the analysis. Later on, using a maximum likelihood approach, we will derive these values."
   ]
  },
  {
   "cell_type": "code",
   "execution_count": 5,
   "id": "3c254263",
   "metadata": {},
   "outputs": [],
   "source": [
    "## The name of the data\n",
    "save_name = \"Y2H_1\"\n",
    "  \n",
    "## prepare a random number generator object \n",
    "seed_num = 123412\n",
    "rng = np.random.RandomState(seed_num)\n",
    "\n",
    "## make a directory in which the results will be saved\n",
    "try:\n",
    "  os.mkdir(save_name)\n",
    "except:\n",
    "  pass"
   ]
  },
  {
   "cell_type": "markdown",
   "id": "817cbf3e",
   "metadata": {},
   "source": [
    "Below, para_n_jobs refers to the number of cores to be used. (The number of cores refers to the number of processing units available for this program to use. Using more cores can result in faster program execution.) With 6 cores, this computation will take approximately 2 minutes. To specify the values of $\\alpha$ and $\\beta$, use Fixed_abneg. Note that when specifying these values, negbin_iterate and average_range_0 must be set to 1."
   ]
  },
  {
   "cell_type": "code",
   "execution_count": 6,
   "id": "c3fbf966",
   "metadata": {},
   "outputs": [
    {
     "name": "stdout",
     "output_type": "stream",
     "text": [
      "fit START!\n",
      "0\n",
      "fit DONE!\n",
      "fit_after_fixing_parameters START!\n",
      "fit_after_fixing_parameters END!\n"
     ]
    },
    {
     "data": {
      "text/plain": [
       "<ACIDES_module.ACIDES at 0x7f891a64fd60>"
      ]
     },
     "execution_count": 6,
     "metadata": {},
     "output_type": "execute_result"
    }
   ],
   "source": [
    "reload(ACIDES_module)\n",
    "from ACIDES_module import ACIDES\n",
    "fit = ACIDES(Inference_type='Negbin',\n",
    "                 theta_term_yes='yes',\n",
    "                 t_rounds=t_rounds.copy(),\n",
    "                 folder_name = save_name,\n",
    "                 random_num=rng,\n",
    "                 para_n_jobs = 6)\n",
    "fit.fit(_data_set_=data_set.copy(),negbin_iterate=1, Fixed_abneg=[0.87,0.25])\n",
    "fit.fit_after_fixing_parameters(average_range_0 = 1)"
   ]
  },
  {
   "cell_type": "markdown",
   "id": "0c770926",
   "metadata": {},
   "source": [
    "## 4. Analyzing ACIDES results"
   ]
  },
  {
   "cell_type": "markdown",
   "id": "51e5ac6e",
   "metadata": {},
   "source": [
    "The results of the fitting process are stored in the directory (save_name). To extract information from these results, we will use a ACIDES_FIGURE_AVERAGE class. Once again, n_jobs refers to the number of cores to be used."
   ]
  },
  {
   "cell_type": "code",
   "execution_count": 7,
   "id": "8cb0999b",
   "metadata": {},
   "outputs": [],
   "source": [
    "reload(ACIDES_module)\n",
    "from ACIDES_module import ACIDES_FIGURE_AVERAGE\n",
    "self = ACIDES_FIGURE_AVERAGE(Inference_type = 'Negbin',\n",
    "                              howmany_average = 1,\n",
    "                              save_folder = save_name,\n",
    "                              t_rounds = t_rounds.copy(),\n",
    "                              n_jobs = 4)"
   ]
  },
  {
   "cell_type": "markdown",
   "id": "9a9f638f",
   "metadata": {},
   "source": [
    "The scores and confidence intervals (CIs) for each variant obtained from the fitting process are stored in the following array as \"a_inf\" (scores) and \"a_inf_err\" (CIs: 2 $\\times$ standard deviations):"
   ]
  },
  {
   "cell_type": "code",
   "execution_count": 8,
   "id": "19957ff6",
   "metadata": {},
   "outputs": [
    {
     "data": {
      "text/html": [
       "<div>\n",
       "<style scoped>\n",
       "    .dataframe tbody tr th:only-of-type {\n",
       "        vertical-align: middle;\n",
       "    }\n",
       "\n",
       "    .dataframe tbody tr th {\n",
       "        vertical-align: top;\n",
       "    }\n",
       "\n",
       "    .dataframe thead th {\n",
       "        text-align: right;\n",
       "    }\n",
       "</style>\n",
       "<table border=\"1\" class=\"dataframe\">\n",
       "  <thead>\n",
       "    <tr style=\"text-align: right;\">\n",
       "      <th></th>\n",
       "      <th>a_inf</th>\n",
       "      <th>a_inf_err</th>\n",
       "      <th>b_inf</th>\n",
       "      <th>b_inf_err</th>\n",
       "    </tr>\n",
       "  </thead>\n",
       "  <tbody>\n",
       "    <tr>\n",
       "      <th>variant_0</th>\n",
       "      <td>0.011373</td>\n",
       "      <td>0.007141</td>\n",
       "      <td>-1.178697</td>\n",
       "      <td>0.003459</td>\n",
       "    </tr>\n",
       "    <tr>\n",
       "      <th>variant_1</th>\n",
       "      <td>-1.485581</td>\n",
       "      <td>0.912753</td>\n",
       "      <td>-11.321703</td>\n",
       "      <td>0.298770</td>\n",
       "    </tr>\n",
       "    <tr>\n",
       "      <th>variant_2</th>\n",
       "      <td>-0.949850</td>\n",
       "      <td>1.639422</td>\n",
       "      <td>-13.305163</td>\n",
       "      <td>0.696642</td>\n",
       "    </tr>\n",
       "    <tr>\n",
       "      <th>variant_3</th>\n",
       "      <td>-0.251799</td>\n",
       "      <td>0.683762</td>\n",
       "      <td>-11.452378</td>\n",
       "      <td>0.312758</td>\n",
       "    </tr>\n",
       "    <tr>\n",
       "      <th>variant_4</th>\n",
       "      <td>-1.073895</td>\n",
       "      <td>0.615376</td>\n",
       "      <td>-10.645455</td>\n",
       "      <td>0.221700</td>\n",
       "    </tr>\n",
       "    <tr>\n",
       "      <th>...</th>\n",
       "      <td>...</td>\n",
       "      <td>...</td>\n",
       "      <td>...</td>\n",
       "      <td>...</td>\n",
       "    </tr>\n",
       "    <tr>\n",
       "      <th>variant_26738</th>\n",
       "      <td>-0.286186</td>\n",
       "      <td>0.559001</td>\n",
       "      <td>-10.916374</td>\n",
       "      <td>0.248912</td>\n",
       "    </tr>\n",
       "    <tr>\n",
       "      <th>variant_26739</th>\n",
       "      <td>-25.975719</td>\n",
       "      <td>559.360877</td>\n",
       "      <td>-14.001896</td>\n",
       "      <td>0.965037</td>\n",
       "    </tr>\n",
       "    <tr>\n",
       "      <th>variant_26740</th>\n",
       "      <td>-1.559547</td>\n",
       "      <td>1.675997</td>\n",
       "      <td>-12.729206</td>\n",
       "      <td>0.545231</td>\n",
       "    </tr>\n",
       "    <tr>\n",
       "      <th>variant_26741</th>\n",
       "      <td>-1.997765</td>\n",
       "      <td>2.046125</td>\n",
       "      <td>-12.938371</td>\n",
       "      <td>0.607807</td>\n",
       "    </tr>\n",
       "    <tr>\n",
       "      <th>variant_26742</th>\n",
       "      <td>-0.422555</td>\n",
       "      <td>0.958767</td>\n",
       "      <td>-12.095614</td>\n",
       "      <td>0.417673</td>\n",
       "    </tr>\n",
       "  </tbody>\n",
       "</table>\n",
       "<p>26743 rows × 4 columns</p>\n",
       "</div>"
      ],
      "text/plain": [
       "                   a_inf   a_inf_err      b_inf  b_inf_err\n",
       "variant_0       0.011373    0.007141  -1.178697   0.003459\n",
       "variant_1      -1.485581    0.912753 -11.321703   0.298770\n",
       "variant_2      -0.949850    1.639422 -13.305163   0.696642\n",
       "variant_3      -0.251799    0.683762 -11.452378   0.312758\n",
       "variant_4      -1.073895    0.615376 -10.645455   0.221700\n",
       "...                  ...         ...        ...        ...\n",
       "variant_26738  -0.286186    0.559001 -10.916374   0.248912\n",
       "variant_26739 -25.975719  559.360877 -14.001896   0.965037\n",
       "variant_26740  -1.559547    1.675997 -12.729206   0.545231\n",
       "variant_26741  -1.997765    2.046125 -12.938371   0.607807\n",
       "variant_26742  -0.422555    0.958767 -12.095614   0.417673\n",
       "\n",
       "[26743 rows x 4 columns]"
      ]
     },
     "execution_count": 8,
     "metadata": {},
     "output_type": "execute_result"
    }
   ],
   "source": [
    "self.dummy_dictionary[\"data_all\"]"
   ]
  },
  {
   "cell_type": "markdown",
   "id": "e61bacc1",
   "metadata": {},
   "source": [
    "Sorting the scores of all variants in descending order gives us a variant rank, which we refer to as the \"naive rank.\" However, due to statistical errors in the scores, the obtained rank is generally biased. To correct for this bias, ACIDES uses \\textit{in-silico} simulations based on the confidence intervals of the scores to re-estimate the rank with 95%-CIs. We refer to this as the \"corrected rank\". To generate the plot of the corrected rank against the naive rank (corresponding to Fig.2A-2G), use the following function. Note that this function takes approximately 7 minutes with 4 cores."
   ]
  },
  {
   "cell_type": "code",
   "execution_count": 9,
   "id": "f4f17eb3",
   "metadata": {},
   "outputs": [
    {
     "data": {
      "image/png": "[encoded data removed]",
      "text/plain": [
       "<Figure size 640x480 with 1 Axes>"
      ]
     },
     "metadata": {},
     "output_type": "display_data"
    }
   ],
   "source": [
    "%matplotlib inline\n",
    "self.Ranking_probability_based_on_ai(use_saved_data = False, all_th = 5000)"
   ]
  },
  {
   "cell_type": "markdown",
   "id": "43e3d2d0",
   "metadata": {},
   "source": [
    "Finally, we compute the Rank Robustness (RR) based on the obtained corrected rank. RR represents the percentage of the top 50 variants identified in the naive rank that also appear in the top 50 of the corrected rank. This measure indicates the quality of the selection convergence and ranges from 0 to 1, with a low value indicating that the variants have not been selected enough, and therefore, more rounds, deeper NGS sampling, or more replicates are necessary. To compute RR in ACIDES, use the following function:"
   ]
  },
  {
   "cell_type": "code",
   "execution_count": 10,
   "id": "e2122f4b",
   "metadata": {},
   "outputs": [
    {
     "name": "stdout",
     "output_type": "stream",
     "text": [
      "RR =  0.82432\n"
     ]
    }
   ],
   "source": [
    "self.Experimental_reliability_(all_th = 5000,Total_num = 50)"
   ]
  },
  {
   "cell_type": "markdown",
   "id": "2f72c82b",
   "metadata": {},
   "source": [
    "## 5. Estimating $\\alpha$ and $\\beta$. "
   ]
  },
  {
   "cell_type": "markdown",
   "id": "45eb99b9",
   "metadata": {},
   "source": [
    "In order to estimate $\\alpha$ and $\\beta$, we again use ACIDES.fit. This time, it will take around 20 minutes with 6 cores. Determining $\\alpha$ and $\\beta$ is an iterative process (see Fig.S2 for details). negbin_iterate specifies the number of iterations. We can see that after the five iterations, the values of $\\alpha$ and $\\beta$ have almost converged."
   ]
  },
  {
   "cell_type": "code",
   "execution_count": 11,
   "id": "9a6fd1e7",
   "metadata": {},
   "outputs": [
    {
     "name": "stdout",
     "output_type": "stream",
     "text": [
      "fit START!\n",
      "0\n",
      "0.5626088845225958 1.081642980396438\n",
      "1\n",
      "0.7197317402763899 0.65966389256076\n",
      "2\n",
      "0.7994728907331808 0.44305606874856834\n",
      "3\n",
      "0.8358968117513093 0.3416157590271214\n",
      "4\n",
      "0.8553396877524212 0.29208200881242646\n",
      "5\n",
      "0.8664619397015896 0.2637692479274815\n",
      "6\n",
      "0.8700779915402177 0.2553976611537113\n",
      "7\n",
      "0.871747711603545 0.25104360818865695\n",
      "fit DONE!\n"
     ]
    },
    {
     "data": {
      "text/plain": [
       "<ACIDES_module.ACIDES at 0x7f88e8370f40>"
      ]
     },
     "execution_count": 11,
     "metadata": {},
     "output_type": "execute_result"
    }
   ],
   "source": [
    "reload(ACIDES_module)\n",
    "from ACIDES_module import ACIDES\n",
    "fit = ACIDES(Inference_type='Negbin',\n",
    "                 theta_term_yes='yes',\n",
    "                 t_rounds=t_rounds.copy(),\n",
    "                 folder_name = save_name,\n",
    "                 random_num=rng,\n",
    "                 para_n_jobs = 6)\n",
    "fit.fit(_data_set_=data_set.copy(),negbin_iterate=8)"
   ]
  },
  {
   "cell_type": "markdown",
   "id": "b8a742ec",
   "metadata": {},
   "source": [
    "## 6. Benchmark of ACIDES against DiMSum, Enrich2 and other approaches (Fig. 5 generation)"
   ]
  },
  {
   "cell_type": "markdown",
   "id": "db37ff94",
   "metadata": {},
   "source": [
    "As an application, we will provide the script to generate Fig.5 of the article using ACIDES. \n",
    "\n",
    "We're testing the accuracy of error predictions made by ACIDES against 5 different models, including DimSum and Enrich2, using 12 datasets. These 12 datasets can be downloaded from the following link: https://www.dropbox.com/s/egkzvzkxlzpr1fe/12dataset.zip?dl=0 (taken from DimSum Github page https://github.com/lehner-lab/dimsumms). Please download and extract the \"12datasets\" foldrer from the dropbox link and place it in the same directory as the \"ACIDES_tutorial.ipynb\" file. Below, \"Data_file_name\" stores the names of the data text files, \"Data_name\" stores the names of each data text file (by removing the file extension \".txt\" from \"Data_name\"), \"Data_\" is a list storing count data for each \"Data_name\", and \"Num_rep\" stores the number of replicated experiments for each dataset. Finally, \"Initial_library_same_dict\" specifies whether each dataset shares the initial library. "
   ]
  },
  {
   "cell_type": "code",
   "execution_count": 12,
   "id": "a049146a",
   "metadata": {},
   "outputs": [],
   "source": [
    "Dataplace = \".\"\n",
    "Data_file_name = ['GRB2_GPD.txt', 'FOScis.txt', 'tRNA_selDMSO.txt', 'TDP43_332.txt', 'GRB2_CYC.txt', 'tRNA_sel23.txt', 'GB1.txt', 'tRNA_sel37.txt', 'tRNA_sel30.txt', 'TDP43_290.txt', 'FOSJUN.txt', 'tRNA_Phylogeny.txt']\n",
    "Data_name = list(range(len(Data_file_name)))\n",
    "for i in range(len(Data_file_name)):\n",
    "    Data_name[i] = Data_file_name[i][:Data_file_name[i].find(\".\")]\n",
    "Data_ = list(range(len(Data_name)))\n",
    "Num_rep = list(range(len(Data_name)))\n",
    "for i in range(len(Data_file_name)):\n",
    "    Data_[i] = pd.read_csv(Dataplace + \"/12dataset/\" + Data_file_name[i],sep=' ')\n",
    "    Rep_dummy = 0\n",
    "    for j in Data_[i].columns:\n",
    "        if j.find(\"input\") != -1:\n",
    "            Rep_dummy += 1\n",
    "    Num_rep[i] = Rep_dummy\n",
    "t_rounds = np.array([0,1])\n",
    "## In the data \"TDP43_290\", the replicate number is fixed.\n",
    "Data_[np.where(np.array(Data_name) == 'TDP43_290')[0][0]].columns = ['WT', 'Nmut', 'input1', 'input2', 'input3', 'output1', 'output2','output3']\n",
    "\n",
    "Initial_library_same_dict = {0 : None, 1 : None, 2 : \"same\", 3 : None, 4 : None, 5 : \"same\", 6 : \"same\", 7 : \"same\", 8 : \"same\", 9 : None, 10: None, 11 : None} "
   ]
  },
  {
   "cell_type": "markdown",
   "id": "d775caf3",
   "metadata": {},
   "source": [
    "We will be comparing ACIDES against 5 other algorithms (DiMSum, Enrich2, the count-based model, the Bayesian regularization model, and the standard-deviation based model) using the cross validation method used in [Faure 2020]. For more details, please refer to the Methods section of the manuscript. We used the script provided at https://github.com/lehner-lab/dimsumms to generate these cross-validation results for the five other algorithms. You can download the results from this link: https://www.dropbox.com/s/wpkrsfelfv5tymw/5algorithms_results.zip?dl=0 Please download and extract the \"5algorithms_results\" folder from the dropbox link and place it in the same directory as the \"ACIDES_tutorial.ipynb\" file. "
   ]
  },
  {
   "cell_type": "markdown",
   "id": "27457239",
   "metadata": {},
   "source": [
    "Next, we'll begin analyzing each dataset (i=0,...,11) using ACIDES. This process, which uses the \"_12_dataset_fitting\" function, will take around 1 hour with 8 cores. If you'd like to skip this computation, you can download and extract the \"_12_dataset_fitting\" folder from the following link: https://www.dropbox.com/s/itq2coiirqezrts/_12_dataset_fitting.zip?dl=0\n",
    "Please place this folder in the same directory as the \"ACIDES_tutorial.ipynb\" file. By doing so, you'll be able to proceed directly to the subsequent step, where you'll generate the figure using the \"Figure_12datasets_6method_comparison\" function."
   ]
  },
  {
   "cell_type": "code",
   "execution_count": 13,
   "id": "dd23b132",
   "metadata": {},
   "outputs": [
    {
     "name": "stdout",
     "output_type": "stream",
     "text": [
      "GRB2_GPD None\n",
      "FOScis None\n",
      "tRNA_selDMSO same\n",
      "TDP43_332 None\n",
      "GRB2_CYC None\n",
      "tRNA_sel23 same\n",
      "GB1 same\n",
      "tRNA_sel37 same\n",
      "tRNA_sel30 same\n",
      "TDP43_290 None\n",
      "FOSJUN None\n",
      "tRNA_Phylogeny None\n"
     ]
    }
   ],
   "source": [
    "reload(ACIDES_module)\n",
    "from ACIDES_module import ACIDES\n",
    "_self_ = ACIDES(Inference_type='Negbin',\n",
    "                 theta_term_yes='yes',\n",
    "                 t_rounds=t_rounds)\n",
    "_self_._12_dataset_fitting(Initial_library_same_dict,Num_rep,Data_name,Data_)"
   ]
  },
  {
   "cell_type": "markdown",
   "id": "08a9e5fd",
   "metadata": {},
   "source": [
    "Finally, the following command will draw a graph to compare 6 different algorihtms using 12 datasets. "
   ]
  },
  {
   "cell_type": "code",
   "execution_count": 14,
   "id": "8e748c00",
   "metadata": {},
   "outputs": [
    {
     "data": {
      "image/png": "[encoded data removed]",
      "text/plain": [
       "<Figure size 560x550 with 1 Axes>"
      ]
     },
     "metadata": {},
     "output_type": "display_data"
    }
   ],
   "source": [
    "reload(ACIDES_module)\n",
    "from ACIDES_module import ACIDES\n",
    "_self_ = ACIDES(Inference_type='Negbin',\n",
    "                 theta_term_yes='yes',\n",
    "                 t_rounds=t_rounds)\n",
    "_self_.Figure_12datasets_6method_comparison(Num_rep, Data_name)"
   ]
  },
  {
   "cell_type": "code",
   "execution_count": null,
   "id": "b1d25c55",
   "metadata": {},
   "outputs": [],
   "source": []
  }
 ],
 "metadata": {
  "kernelspec": {
   "display_name": "Python 3 (ipykernel)",
   "language": "python",
   "name": "python3"
  },
  "language_info": {
   "codemirror_mode": {
    "name": "ipython",
    "version": 3
   },
   "file_extension": ".py",
   "mimetype": "text/x-python",
   "name": "python",
   "nbconvert_exporter": "python",
   "pygments_lexer": "ipython3",
   "version": "3.8.5"
  }
 },
 "nbformat": 4,
 "nbformat_minor": 5
}
